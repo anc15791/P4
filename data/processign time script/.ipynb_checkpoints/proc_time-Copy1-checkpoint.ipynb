{
 "cells": [
  {
   "cell_type": "code",
   "execution_count": 1,
   "metadata": {},
   "outputs": [],
   "source": [
    "import sys\n",
    "import pandas as pd"
   ]
  },
  {
   "cell_type": "code",
   "execution_count": 2,
   "metadata": {},
   "outputs": [],
   "source": [
    "def main():\n",
    "\n",
    "    print(\"Enter:\")\n",
    "    print(\"experiment number, exp1 or exp2\")\n",
    "    print(\"experiment sub type: base,p4,nfv\")\n",
    "    print(\"number of main experiments: l1,l2,l3.\")\n",
    "    print(\"number of sub experiments: 1,2,3,4...10\")\n",
    "    print(\"file type: csv,txt\")\n",
    "\n",
    "    _exp_main_type = sys.argv[1]\n",
    "    _exp_sub_type = sys.argv[2]\n",
    "    _num_of_main_exp = int(sys.argv[3])\n",
    "    _num_of_sub_exp = int(sys.argv[4])\n",
    "    _file_format = sys.argv[5]\n",
    "\n",
    "    for i in range(1,_num_of_main_exp+1):\n",
    "        for j in range(1,_num_of_sub_exp+1):\n",
    "            _tx_file = \"exp\"+str(_exp_main_type)+\"_\"+_exp_sub_type+\"_\"+\"tx\"+\"l\"+str(i)+\"_\"+str(j)+\".\"+_file_format\n",
    "            _rx_file = \"exp\"+str(_exp_main_type)+\"_\"+_exp_sub_type+\"_\"+\"rx\"+\"l\"+str(i)+\"_\"+str(j)+\".\"+_file_format\n",
    "            pd.read_csv('file.csv', delim_whitespace=True)\n",
    "\n"
   ]
  },
  {
   "cell_type": "code",
   "execution_count": null,
   "metadata": {},
   "outputs": [],
   "source": [
    "\n",
    "if __name__ == \"__main__\":\n",
    "    main()"
   ]
  }
 ],
 "metadata": {
  "kernelspec": {
   "display_name": "Python 3",
   "language": "python",
   "name": "python3"
  },
  "language_info": {
   "codemirror_mode": {
    "name": "ipython",
    "version": 3
   },
   "file_extension": ".py",
   "mimetype": "text/x-python",
   "name": "python",
   "nbconvert_exporter": "python",
   "pygments_lexer": "ipython3",
   "version": "3.6.4"
  }
 },
 "nbformat": 4,
 "nbformat_minor": 2
}
